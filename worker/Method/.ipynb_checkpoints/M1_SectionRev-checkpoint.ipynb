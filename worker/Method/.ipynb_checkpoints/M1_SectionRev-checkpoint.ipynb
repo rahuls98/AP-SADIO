{
 "cells": [
  {
   "cell_type": "markdown",
   "metadata": {},
   "source": [
    "### Import Modules and Dependencies"
   ]
  },
  {
   "cell_type": "code",
   "execution_count": 1,
   "metadata": {},
   "outputs": [],
   "source": [
    "import librosa\n",
    "import matplotlib.pyplot as plt\n",
    "import copy"
   ]
  },
  {
   "cell_type": "markdown",
   "metadata": {},
   "source": [
    "### Load, plot and play the test audio sample"
   ]
  },
  {
   "cell_type": "code",
   "execution_count": 2,
   "metadata": {},
   "outputs": [],
   "source": [
    "x,sr = librosa.load('../../../Violin.wav')"
   ]
  },
  {
   "cell_type": "code",
   "execution_count": 3,
   "metadata": {
    "scrolled": true
   },
   "outputs": [
    {
     "name": "stdout",
     "output_type": "stream",
     "text": [
      "[-0.00202265 -0.00320533 -0.00137628 ...  0.00089052  0.00087279\n",
      "  0.0009666 ]\n"
     ]
    },
    {
     "data": {
      "text/plain": [
       "[<matplotlib.lines.Line2D at 0x125e0c940>]"
      ]
     },
     "execution_count": 3,
     "metadata": {},
     "output_type": "execute_result"
    },
    {
     "data": {
      "image/png": "[encoded data removed]",
      "text/plain": [
       "<Figure size 432x288 with 1 Axes>"
      ]
     },
     "metadata": {
      "needs_background": "light"
     },
     "output_type": "display_data"
    }
   ],
   "source": [
    "print(x)\n",
    "\n",
    "plt.plot(x)"
   ]
  },
  {
   "cell_type": "code",
   "execution_count": 4,
   "metadata": {},
   "outputs": [
    {
     "name": "stdout",
     "output_type": "stream",
     "text": [
      "\n",
      "../../../Violin.wav:\n",
      "\n",
      " File Size: 1.59M     Bit Rate: 706k\n",
      "  Encoding: Signed PCM    \n",
      "  Channels: 1 @ 16-bit   \n",
      "Samplerate: 44100Hz      \n",
      "Replaygain: off         \n",
      "  Duration: 00:00:17.99  \n",
      "\n",
      "In:100%  00:00:17.99 [00:00:00.00] Out:793k  [      |      ]        Clip:0    \n",
      "Done.\n"
     ]
    }
   ],
   "source": [
    "!play ../../../Violin.wav"
   ]
  },
  {
   "cell_type": "code",
   "execution_count": 5,
   "metadata": {},
   "outputs": [],
   "source": [
    "limit = len(x)"
   ]
  },
  {
   "cell_type": "markdown",
   "metadata": {},
   "source": [
    "### Choose encryption-decryption key"
   ]
  },
  {
   "cell_type": "code",
   "execution_count": 6,
   "metadata": {},
   "outputs": [],
   "source": [
    "key = \"test\""
   ]
  },
  {
   "cell_type": "markdown",
   "metadata": {},
   "source": [
    "### Re-format key"
   ]
  },
  {
   "cell_type": "code",
   "execution_count": 7,
   "metadata": {},
   "outputs": [],
   "source": [
    "def convKey(key):\n",
    "    key = set(list(key))\n",
    "    key = [ord(e) for e in key]\n",
    "    key.sort()\n",
    "    return key"
   ]
  },
  {
   "cell_type": "code",
   "execution_count": 8,
   "metadata": {},
   "outputs": [
    {
     "name": "stdout",
     "output_type": "stream",
     "text": [
      "[101, 115, 116]\n"
     ]
    }
   ],
   "source": [
    "key = convKey(key)\n",
    "print(key)"
   ]
  },
  {
   "cell_type": "markdown",
   "metadata": {},
   "source": [
    "### Generate indices using key"
   ]
  },
  {
   "cell_type": "code",
   "execution_count": 9,
   "metadata": {},
   "outputs": [],
   "source": [
    "def genInd(key):\n",
    "    c = 1\n",
    "    ind = []\n",
    "    \n",
    "    while(True):\n",
    "        temp = [i*c for i in key]\n",
    "        if(any(c>limit for c in temp)):\n",
    "            break\n",
    "    \n",
    "        ind += temp\n",
    "        c += 269\n",
    "    \n",
    "    ind.sort()\n",
    "    return ind"
   ]
  },
  {
   "cell_type": "code",
   "execution_count": 10,
   "metadata": {
    "scrolled": true
   },
   "outputs": [
    {
     "name": "stdout",
     "output_type": "stream",
     "text": [
      "[101, 115, 116, 27270, 31050, 31320, 54439, 61985, 62524, 81608, 92920, 93728, 108777, 123855, 124932, 135946, 154790, 156136, 163115, 185725, 187340, 190284, 216660, 217453, 218544, 244622, 247595, 249748, 271791, 278530, 280952, 298960, 309465, 312156, 326129, 340400, 343360, 371335, 374564]\n"
     ]
    }
   ],
   "source": [
    "ind = genInd(key)\n",
    "print(ind)"
   ]
  },
  {
   "cell_type": "markdown",
   "metadata": {},
   "source": [
    "### Encrypt"
   ]
  },
  {
   "cell_type": "code",
   "execution_count": 11,
   "metadata": {},
   "outputs": [
    {
     "data": {
      "text/plain": [
       "array([-0.00202265, -0.00320533, -0.00137628, ...,  0.00089052,\n",
       "        0.00087279,  0.0009666 ], dtype=float32)"
      ]
     },
     "execution_count": 11,
     "metadata": {},
     "output_type": "execute_result"
    }
   ],
   "source": [
    "y = copy.deepcopy(x)\n",
    "y"
   ]
  },
  {
   "cell_type": "code",
   "execution_count": 12,
   "metadata": {},
   "outputs": [],
   "source": [
    "def encDec(data, ind):\n",
    "    start = 0\n",
    "    sec = 1\n",
    "\n",
    "    for i in ind:\n",
    "        stop = i\n",
    "        if sec%2==0:\n",
    "            data[start:stop] = data[start:stop][::-1]   \n",
    "\n",
    "        start = stop\n",
    "        sec += 1\n",
    "\n",
    "    stop = len(data)\n",
    "    if sec%2==0:\n",
    "        data[start:stop] = data[start:stop][::-1]\n",
    "        \n",
    "    return data"
   ]
  },
  {
   "cell_type": "code",
   "execution_count": 13,
   "metadata": {},
   "outputs": [
    {
     "name": "stdout",
     "output_type": "stream",
     "text": [
      "[-0.00202265 -0.00320533 -0.00137628 ...  0.16803789  0.16247022\n",
      "  0.15532067]\n"
     ]
    }
   ],
   "source": [
    "#Encryption\n",
    "y = encDec(y, ind)\n",
    "print(y)"
   ]
  },
  {
   "cell_type": "code",
   "execution_count": 14,
   "metadata": {},
   "outputs": [],
   "source": [
    "librosa.output.write_wav('finEnc.wav', y, sr)"
   ]
  },
  {
   "cell_type": "code",
   "execution_count": 15,
   "metadata": {},
   "outputs": [
    {
     "name": "stdout",
     "output_type": "stream",
     "text": [
      "\n",
      "finEnc.wav:\n",
      "\n",
      " File Size: 1.59M     Bit Rate: 706k\n",
      "  Encoding: F.P. PCM      \n",
      "  Channels: 1 @ 25-bit   \n",
      "Samplerate: 22050Hz      \n",
      "Replaygain: off         \n",
      "  Duration: 00:00:17.99  \n",
      "\n",
      "In:100%  00:00:17.99 [00:00:00.00] Out:793k  [   -==|==-   ]        Clip:0    \n",
      "Done.\n"
     ]
    }
   ],
   "source": [
    "!play finEnc.wav"
   ]
  },
  {
   "cell_type": "markdown",
   "metadata": {},
   "source": [
    "### Load encrypted audio sample"
   ]
  },
  {
   "cell_type": "code",
   "execution_count": 16,
   "metadata": {},
   "outputs": [],
   "source": [
    "z,sr = librosa.load('finEnc.wav')"
   ]
  },
  {
   "cell_type": "code",
   "execution_count": 17,
   "metadata": {},
   "outputs": [
    {
     "name": "stdout",
     "output_type": "stream",
     "text": [
      "[-0.00201416 -0.00320435 -0.00137329 ...  0.16802979  0.16247559\n",
      "  0.15533447]\n"
     ]
    },
    {
     "data": {
      "text/plain": [
       "[<matplotlib.lines.Line2D at 0x125da2e10>]"
      ]
     },
     "execution_count": 17,
     "metadata": {},
     "output_type": "execute_result"
    },
    {
     "data": {
      "image/png": "[encoded data removed]",
      "text/plain": [
       "<Figure size 432x288 with 1 Axes>"
      ]
     },
     "metadata": {
      "needs_background": "light"
     },
     "output_type": "display_data"
    }
   ],
   "source": [
    "print(z)\n",
    "\n",
    "plt.plot(z)"
   ]
  },
  {
   "cell_type": "markdown",
   "metadata": {},
   "source": [
    "### Decrypt"
   ]
  },
  {
   "cell_type": "code",
   "execution_count": 18,
   "metadata": {},
   "outputs": [
    {
     "name": "stdout",
     "output_type": "stream",
     "text": [
      "[-0.00201416 -0.00320435 -0.00137329 ...  0.00088501  0.00088501\n",
      "  0.00097656]\n"
     ]
    }
   ],
   "source": [
    "#Decryption\n",
    "z = encDec(z, ind)\n",
    "print(z)"
   ]
  },
  {
   "cell_type": "code",
   "execution_count": 19,
   "metadata": {},
   "outputs": [],
   "source": [
    "librosa.output.write_wav('finDec.wav', z, sr)"
   ]
  },
  {
   "cell_type": "code",
   "execution_count": 20,
   "metadata": {},
   "outputs": [
    {
     "name": "stdout",
     "output_type": "stream",
     "text": [
      "\n",
      "finDec.wav:\n",
      "\n",
      " File Size: 1.59M     Bit Rate: 706k\n",
      "  Encoding: F.P. PCM      \n",
      "  Channels: 1 @ 25-bit   \n",
      "Samplerate: 22050Hz      \n",
      "Replaygain: off         \n",
      "  Duration: 00:00:17.99  \n",
      "\n",
      "In:100%  00:00:17.99 [00:00:00.00] Out:793k  [      |      ]        Clip:0    \n",
      "Done.\n"
     ]
    }
   ],
   "source": [
    "!play finDec.wav"
   ]
  }
 ],
 "metadata": {
  "kernelspec": {
   "display_name": "Python 3",
   "language": "python",
   "name": "python3"
  },
  "language_info": {
   "codemirror_mode": {
    "name": "ipython",
    "version": 3
   },
   "file_extension": ".py",
   "mimetype": "text/x-python",
   "name": "python",
   "nbconvert_exporter": "python",
   "pygments_lexer": "ipython3",
   "version": "3.7.2"
  }
 },
 "nbformat": 4,
 "nbformat_minor": 2
}
